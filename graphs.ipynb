{
 "cells": [
  {
   "cell_type": "code",
   "execution_count": null,
   "metadata": {},
   "outputs": [],
   "source": [
    "import pandas as pd\n",
    "import matplotlib.pyplot as plt"
   ]
  },
  {
   "cell_type": "markdown",
   "metadata": {},
   "source": [
    "# Training Results"
   ]
  },
  {
   "cell_type": "code",
   "execution_count": null,
   "metadata": {},
   "outputs": [],
   "source": [
    "def makeResultDF(alg, num=0):\n",
    "    retdf = None\n",
    "    if alg == \"dmc\":\n",
    "        path = \"trained_models/uno_dmc_cuda_result/logs.csv\"\n",
    "        df = pd.read_csv(path)\n",
    "\n",
    "        retdf = df[\"mean_episode_return_1\"]\n",
    "    else:\n",
    "        numk = num*1000\n",
    "        if num > 50:\n",
    "            numk = f\"{numk}_cuda\"\n",
    "        path = f\"trained_models/uno_{alg}_{numk}_result/performance.csv\"\n",
    "\n",
    "        retdf = pd.read_csv(path)\n",
    "\n",
    "        retdf.rename({\"reward\": alg.lower()}, axis=1, inplace=True)\n",
    "    return retdf"
   ]
  },
  {
   "cell_type": "code",
   "execution_count": null,
   "metadata": {},
   "outputs": [],
   "source": [
    "def plotDQNandNFSP(num):\n",
    "    df_dqn = makeResultDF(\"dqn\", num)\n",
    "    df_nfsp = makeResultDF(\"nfsp\", num)\n",
    "\n",
    "    extracted_col = df_nfsp[\"nfsp\"]\n",
    "    df_combined = pd.concat([df_dqn, extracted_col], axis=1)\n",
    "\n",
    "    plot = df_combined.plot(x='episode', kind='line', grid=True, figsize=(10, 6))\n",
    "    plot.set_xlabel('episode', fontsize=16)\n",
    "    plot.set_ylabel('reward', fontsize=16)\n",
    "\n",
    "    file_name = f\"training_dqn_nfsp\"\n",
    "    plot.get_figure().savefig(f\"training_results/{file_name}.pdf\")"
   ]
  },
  {
   "cell_type": "code",
   "execution_count": null,
   "metadata": {},
   "outputs": [],
   "source": [
    "def plotDMC():\n",
    "    path = \"trained_models/uno_dmc_cuda_result/logs.csv\"\n",
    "    df = pd.read_csv(path)\n",
    "\n",
    "    plot = df[\"mean_episode_return_1\"].plot(kind='line', grid=True, figsize=(10, 6))\n",
    "    plot.set_xlabel('time steps', fontsize=16)\n",
    "    plot.set_ylabel('mean episode return', fontsize=16)\n",
    "\n",
    "    file_name = f\"training_dmc\"\n",
    "    plot.get_figure().savefig(f\"training_results/{file_name}.pdf\")"
   ]
  },
  {
   "cell_type": "code",
   "execution_count": null,
   "metadata": {},
   "outputs": [],
   "source": [
    "def plotIndividual(alg, num):\n",
    "    df = makeResultDF(alg, num)\n",
    "    plot = df.plot(x='episode', kind='line', grid=True, legend=False, figsize=(10, 6))\n",
    "    plot.set_xlabel('episode', fontsize=16)\n",
    "    plot.set_ylabel('reward', fontsize=16)\n",
    "\n",
    "    file_name = f\"training_{alg}_{num}k\"\n",
    "    return [plot, file_name]"
   ]
  },
  {
   "cell_type": "code",
   "execution_count": null,
   "metadata": {},
   "outputs": [],
   "source": [
    "plots = [\n",
    "\tplotIndividual(\"dqn\", 50), # TODO: create again with correct data\n",
    "\tplotIndividual(\"dqn\", 100),\n",
    "\tplotIndividual(\"dqn\", 500),\n",
    "\tplotIndividual(\"nfsp\", 50),\n",
    "\tplotIndividual(\"nfsp\", 100),\n",
    "\tplotIndividual(\"nfsp\", 500)\n",
    "]\n",
    "\n",
    "for plot, file_name in plots:\n",
    "\tplot.get_figure().savefig(f\"training_results/{file_name}.pdf\")"
   ]
  },
  {
   "cell_type": "code",
   "execution_count": null,
   "metadata": {},
   "outputs": [],
   "source": [
    "plotDQNandNFSP(500)"
   ]
  },
  {
   "cell_type": "code",
   "execution_count": null,
   "metadata": {},
   "outputs": [],
   "source": [
    "plotDMC()"
   ]
  },
  {
   "cell_type": "markdown",
   "metadata": {},
   "source": [
    "# Evaluation results"
   ]
  },
  {
   "cell_type": "code",
   "execution_count": null,
   "metadata": {},
   "outputs": [],
   "source": [
    "import re\n",
    "import os"
   ]
  },
  {
   "cell_type": "code",
   "execution_count": null,
   "metadata": {},
   "outputs": [],
   "source": [
    "def formatResult():\n",
    "    directory = 'evaluate_results'\n",
    "\n",
    "    algReg = r'(([A-Z]|[a-z]).*(?=(dqn|nfsp|dmc))|(?=_[a-z]).*\\.pth)'\n",
    "    ruleReg = r'(([A-Z]|[a-z]).*(?=rule)|(?<=rule).*v1)'\n",
    "\n",
    "    finalResult = {}\n",
    "\n",
    "    for filename in os.listdir(directory):\n",
    "        f = os.path.join(directory, filename)\n",
    "        with open(f, 'r', encoding='utf16') as r:\n",
    "            fileList = []\n",
    "            tag = filename[::-1].replace('0000', 'k0')[::-1]\n",
    "            for line in r:\n",
    "                lineStr = re.sub(algReg, '', line) # alg\n",
    "                lineStr = re.sub(ruleReg, '', lineStr) # rule\n",
    "\n",
    "                data = lineStr.strip().split()\n",
    "                fileList.append(data[1:])\n",
    "\n",
    "            finalResult[tag] = fileList[1:]\n",
    "\n",
    "    for key, value in finalResult.items():\n",
    "        print(f'{key}: {value}')\n",
    "\n",
    "    return finalResult\n",
    "\n",
    "formatResult()"
   ]
  },
  {
   "cell_type": "code",
   "execution_count": null,
   "metadata": {},
   "outputs": [],
   "source": [
    "df = pd.DataFrame([[\"DQN\", 0.0232, 0.0324, 0.0556],\n",
    "    [\"NFSP\", -0.0862,-0.1056, -0.0912], [\"DMC\", ]], columns=[\"Algotihm\", \"50k\", \"100k\", \"500k\"])\n",
    "# view data\n",
    "print(df)\n",
    "\n",
    "# plot grouped bar chart\n",
    "main_pl = df.plot(x='Algotihm',\n",
    "        kind='scatter',\n",
    "        grid=True,\n",
    "        title='Grouped Bar Graph with dataframe')"
   ]
  },
  {
   "cell_type": "code",
   "execution_count": null,
   "metadata": {},
   "outputs": [],
   "source": [
    "# data from https://allisonhorst.github.io/palmerpenguins/\n",
    "\n",
    "import matplotlib.pyplot as plt\n",
    "import numpy as np\n",
    "\n",
    "species = (\"Adelie\", \"Chinstrap\", \"Gentoo\")\n",
    "penguin_means = {\n",
    "    'Bill Depth': (18.35, 18.43, 14.98),\n",
    "    'Bill Length': (38.79, 48.83, 47.50),\n",
    "    'Flipper Length': (189.95, 195.82, 217.19),\n",
    "}\n",
    "\n",
    "x = np.arange(len(species))  # the label locations\n",
    "width = 0.25  # the width of the bars\n",
    "multiplier = 0\n",
    "\n",
    "fig, ax = plt.subplots(layout='constrained')\n",
    "\n",
    "for attribute, measurement in penguin_means.items():\n",
    "    offset = width * multiplier\n",
    "    rects = ax.bar(x + offset, measurement, width, label=attribute)\n",
    "    ax.bar_label(rects, padding=3)\n",
    "    multiplier += 1\n",
    "\n",
    "# Add some text for labels, title and custom x-axis tick labels, etc.\n",
    "ax.set_ylabel('Length (mm)')\n",
    "ax.set_title('Penguin attributes by species')\n",
    "ax.set_xticks(x + width, species)\n",
    "ax.legend(loc='upper left', ncols=3)\n",
    "ax.set_ylim(0, 250)\n",
    "\n",
    "plt.show()"
   ]
  }
 ],
 "metadata": {
  "kernelspec": {
   "display_name": "Python 3",
   "language": "python",
   "name": "python3"
  },
  "language_info": {
   "codemirror_mode": {
    "name": "ipython",
    "version": 3
   },
   "file_extension": ".py",
   "mimetype": "text/x-python",
   "name": "python",
   "nbconvert_exporter": "python",
   "pygments_lexer": "ipython3",
   "version": "3.12.3"
  }
 },
 "nbformat": 4,
 "nbformat_minor": 2
}
