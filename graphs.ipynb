{
 "cells": [
  {
   "cell_type": "code",
   "execution_count": null,
   "metadata": {},
   "outputs": [],
   "source": [
    "import pandas as pd\n",
    "import matplotlib.pyplot as plt"
   ]
  },
  {
   "cell_type": "markdown",
   "metadata": {},
   "source": [
    "### Helpers"
   ]
  },
  {
   "cell_type": "code",
   "execution_count": null,
   "metadata": {},
   "outputs": [],
   "source": [
    "def makeResultDF(alg, num=0):\n",
    "    retdf = None\n",
    "    if alg == \"dmc\":\n",
    "        path = \"trained_models/uno_dmc_cuda_result/logs.csv\"\n",
    "        df = pd.read_csv(path)\n",
    "\n",
    "        retdf = df[\"mean_episode_return_1\"]\n",
    "    else:\n",
    "        numk = num*1000\n",
    "        if num > 50:\n",
    "            numk = f\"{numk}_cuda\"\n",
    "        path = f\"trained_models/uno_{alg}_{numk}_result/performance.csv\"\n",
    "\n",
    "        retdf = pd.read_csv(path)\n",
    "\n",
    "        retdf.rename({\"reward\": alg.lower()}, axis=1, inplace=True)\n",
    "    return retdf"
   ]
  },
  {
   "cell_type": "code",
   "execution_count": null,
   "metadata": {},
   "outputs": [],
   "source": [
    "def plotDQNandNFSP(num):\n",
    "    df_dqn = makeResultDF(\"dqn\", num)\n",
    "    df_nfsp = makeResultDF(\"nfsp\", num)\n",
    "\n",
    "    extracted_col = df_nfsp[\"nfsp\"]\n",
    "    df_combined = pd.concat([df_dqn, extracted_col], axis=1)\n",
    "\n",
    "    plot = df_combined.plot(x='episode', kind='line', grid=True, figsize=(10, 6))\n",
    "    plot.set_xlabel('episode', fontsize=16)\n",
    "    plot.set_ylabel('reward', fontsize=16)\n",
    "\n",
    "    file_name = f\"training_dqn_nfsp\"\n",
    "    plot.get_figure().savefig(f\"training_results/{file_name}.pdf\")"
   ]
  },
  {
   "cell_type": "code",
   "execution_count": null,
   "metadata": {},
   "outputs": [],
   "source": [
    "def plotDMC():\n",
    "    path = \"trained_models/uno_dmc_cuda_result/logs.csv\"\n",
    "    df = pd.read_csv(path)\n",
    "\n",
    "    plot = df[\"mean_episode_return_1\"].plot(kind='line', grid=True, figsize=(10, 6))\n",
    "    plot.set_xlabel('time steps', fontsize=16)\n",
    "    plot.set_ylabel('mean episode return', fontsize=16)\n",
    "\n",
    "    file_name = f\"training_dmc\"\n",
    "    plot.get_figure().savefig(f\"training_results/{file_name}.pdf\")"
   ]
  },
  {
   "cell_type": "code",
   "execution_count": null,
   "metadata": {},
   "outputs": [],
   "source": [
    "def plotIndividual(alg, num):\n",
    "    df = makeResultDF(alg, num)\n",
    "    plot = df.plot(x='episode', kind='line', grid=True, legend=False, figsize=(10, 6))\n",
    "    plot.set_xlabel('episode', fontsize=16)\n",
    "    plot.set_ylabel('reward', fontsize=16)\n",
    "\n",
    "    file_name = f\"training_{alg}_{num}k\"\n",
    "    return [plot, file_name]"
   ]
  },
  {
   "cell_type": "markdown",
   "metadata": {},
   "source": [
    "### Run"
   ]
  },
  {
   "cell_type": "code",
   "execution_count": null,
   "metadata": {},
   "outputs": [],
   "source": [
    "plots = [\n",
    "\tplotIndividual(\"dqn\", 50),\n",
    "\tplotIndividual(\"dqn\", 100),\n",
    "\tplotIndividual(\"dqn\", 500),\n",
    "\tplotIndividual(\"nfsp\", 50),\n",
    "\tplotIndividual(\"nfsp\", 100),\n",
    "\tplotIndividual(\"nfsp\", 500)\n",
    "]\n",
    "\n",
    "for plot, file_name in plots:\n",
    "\tplot.get_figure().savefig(f\"graphs/{file_name}.pdf\")"
   ]
  },
  {
   "cell_type": "code",
   "execution_count": null,
   "metadata": {},
   "outputs": [],
   "source": [
    "plotDMC()"
   ]
  },
  {
   "cell_type": "code",
   "execution_count": null,
   "metadata": {},
   "outputs": [],
   "source": [
    "plotDQNandNFSP(500)"
   ]
  }
 ],
 "metadata": {
  "kernelspec": {
   "display_name": "Python 3",
   "language": "python",
   "name": "python3"
  },
  "language_info": {
   "codemirror_mode": {
    "name": "ipython",
    "version": 3
   },
   "file_extension": ".py",
   "mimetype": "text/x-python",
   "name": "python",
   "nbconvert_exporter": "python",
   "pygments_lexer": "ipython3",
   "version": "3.12.3"
  }
 },
 "nbformat": 4,
 "nbformat_minor": 2
}
